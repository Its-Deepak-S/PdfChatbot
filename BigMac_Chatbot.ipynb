{
 "cells": [
  {
   "cell_type": "code",
   "execution_count": 5,
   "id": "b734250a",
   "metadata": {},
   "outputs": [
    {
     "name": "stdout",
     "output_type": "stream",
     "text": [
      "Collecting pypdf\n",
      "  Downloading pypdf-4.2.0-py3-none-any.whl.metadata (7.4 kB)\n",
      "Requirement already satisfied: typing_extensions>=4.0 in c:\\users\\deepak\\anaconda3\\lib\\site-packages (from pypdf) (4.10.0)\n",
      "Downloading pypdf-4.2.0-py3-none-any.whl (290 kB)\n",
      "   ---------------------------------------- 0.0/290.4 kB ? eta -:--:--\n",
      "   ---------------------------------------- 290.4/290.4 kB 9.0 MB/s eta 0:00:00\n",
      "Installing collected packages: pypdf\n",
      "Successfully installed pypdf-4.2.0\n",
      "Note: you may need to restart the kernel to use updated packages.\n"
     ]
    },
    {
     "name": "stderr",
     "output_type": "stream",
     "text": [
      "WARNING: Ignoring invalid distribution -ensorflow-intel (c:\\users\\deepak\\anaconda3\\lib\\site-packages)\n",
      "WARNING: Ignoring invalid distribution -rotobuf (c:\\users\\deepak\\anaconda3\\lib\\site-packages)\n",
      "WARNING: Ignoring invalid distribution -ensorflow-intel (c:\\users\\deepak\\anaconda3\\lib\\site-packages)\n",
      "WARNING: Ignoring invalid distribution -rotobuf (c:\\users\\deepak\\anaconda3\\lib\\site-packages)\n"
     ]
    }
   ],
   "source": [
    "pip install pypdf"
   ]
  },
  {
   "cell_type": "code",
   "execution_count": 21,
   "id": "6b9c9b97",
   "metadata": {},
   "outputs": [],
   "source": [
    "from langchain.schema.messages import HumanMessage\n",
    "from langchain.schema.messages import AIMessage"
   ]
  },
  {
   "cell_type": "code",
   "execution_count": 2,
   "id": "640fa2de",
   "metadata": {},
   "outputs": [],
   "source": [
    "from langchain_community.llms import Ollama\n",
    "llm = Ollama(model=\"llama2\")"
   ]
  },
  {
   "cell_type": "code",
   "execution_count": 3,
   "id": "2d626d09",
   "metadata": {},
   "outputs": [],
   "source": [
    "from langchain_core.prompts import ChatPromptTemplate\n",
    "prompt = ChatPromptTemplate.from_messages([\n",
    "    (\"system\", \"You are an assitant to generate questions and answers\"),\n",
    "    (\"user\", \"{input}\")\n",
    "])"
   ]
  },
  {
   "cell_type": "code",
   "execution_count": 4,
   "id": "ee6e9e20",
   "metadata": {},
   "outputs": [],
   "source": [
    "from langchain_core.output_parsers import StrOutputParser\n",
    "\n",
    "output_parser = StrOutputParser()"
   ]
  },
  {
   "cell_type": "code",
   "execution_count": 5,
   "id": "6a76140f",
   "metadata": {},
   "outputs": [],
   "source": [
    "chain = prompt | llm | output_parser"
   ]
  },
  {
   "cell_type": "code",
   "execution_count": 6,
   "id": "7054270e",
   "metadata": {},
   "outputs": [],
   "source": [
    "from langchain_community.document_loaders import PyPDFLoader\n",
    "\n",
    "loader = PyPDFLoader(\"Big_Mac_Index.pdf\")\n",
    "docs = loader.load_and_split()"
   ]
  },
  {
   "cell_type": "code",
   "execution_count": 7,
   "id": "71e9fb93",
   "metadata": {},
   "outputs": [],
   "source": [
    "from langchain_community.embeddings import OllamaEmbeddings\n",
    "\n",
    "embeddings = OllamaEmbeddings()"
   ]
  },
  {
   "cell_type": "code",
   "execution_count": 8,
   "id": "4cc21ea9",
   "metadata": {},
   "outputs": [],
   "source": [
    "from langchain_community.vectorstores import FAISS\n",
    "from langchain_text_splitters import RecursiveCharacterTextSplitter\n",
    "\n",
    "\n",
    "text_splitter = RecursiveCharacterTextSplitter()\n",
    "documents = text_splitter.split_documents(docs)\n",
    "vector = FAISS.from_documents(documents, embeddings)"
   ]
  },
  {
   "cell_type": "code",
   "execution_count": 29,
   "id": "9aaab3c7",
   "metadata": {},
   "outputs": [],
   "source": [
    "from langchain.chains.combine_documents import create_stuff_documents_chain\n",
    "\n",
    "prompt = ChatPromptTemplate.from_template(\"\"\"Answer the following question based only on the provided context:\n",
    "\n",
    "<context>\n",
    "{context}\n",
    "</context>\n",
    "\n",
    "Question: {input}\"\"\")\n",
    "\n",
    "document_chain = create_stuff_documents_chain(llm, prompt)"
   ]
  },
  {
   "cell_type": "code",
   "execution_count": 30,
   "id": "7e9f2226",
   "metadata": {},
   "outputs": [],
   "source": [
    "from langchain.chains import create_retrieval_chain\n",
    "\n",
    "retriever = vector.as_retriever()\n",
    "retrieval_chain = create_retrieval_chain(retriever, document_chain)"
   ]
  },
  {
   "cell_type": "code",
   "execution_count": 31,
   "id": "9f7e8352",
   "metadata": {},
   "outputs": [],
   "source": [
    "from langchain.chains import create_history_aware_retriever\n",
    "from langchain_core.prompts import MessagesPlaceholder\n",
    "\n",
    "prompt = ChatPromptTemplate.from_messages([\n",
    "    MessagesPlaceholder(variable_name=\"chat_history\"),\n",
    "    (\"user\", \"{input}\"),\n",
    "    (\"user\", \"Given the above conversation, generate a search query to look up to get information relevant to the conversation\")\n",
    "])\n",
    "retriever_chain = create_history_aware_retriever(llm, retriever, prompt)"
   ]
  },
  {
   "cell_type": "code",
   "execution_count": 32,
   "id": "5bfed980",
   "metadata": {},
   "outputs": [],
   "source": [
    "prompt = ChatPromptTemplate.from_messages([\n",
    "    (\"system\", \"Answer the user's questions based on the below context:\\n\\n{context}\"),\n",
    "    MessagesPlaceholder(variable_name=\"chat_history\"),\n",
    "    (\"user\", \"{input}\"),\n",
    "])\n",
    "document_chain = create_stuff_documents_chain(llm, prompt)\n",
    "\n",
    "retrieval_chain = create_retrieval_chain(retriever_chain, document_chain)"
   ]
  },
  {
   "cell_type": "code",
   "execution_count": 38,
   "id": "5ced6373",
   "metadata": {},
   "outputs": [
    {
     "name": "stdout",
     "output_type": "stream",
     "text": [
      "Of course! Here are 12 questions and their answers based on the conversation you provided:\n",
      "\n",
      "True or False Questions:\n",
      "\n",
      "1. McDonald's uses different commercial strategies in different countries, which can result in huge differences for a product. -> True\n",
      "2. The relative cost of high-margin products, such as essential pharmaceutical products or cellular telephony, might compare local capacity and willingness to pay as much as relative currency values. -> False (High-margin products may have different prices due to local production and delivery costs, advertising costs, and local market conditions)\n",
      "3. The price of a Big Mac will be a reflection of its local production and delivery cost, the cost of advertising (considerable in some areas), and most importantly, what the local market will bear – quite different from country to country, and not all a reflection of relative currency values. -> True\n",
      "\n",
      "Multiple Choice Questions:\n",
      "\n",
      "1. What is the main reason why McDonald's prices may differ across countries?\n",
      "a) Relative currency values\n",
      "b) Local production and delivery costs\n",
      "c) Advertising costs\n",
      "Answer: b) Local production and delivery costs\n",
      "2. Which of the following factors might affect the cost of a Big Mac in a particular country?\n",
      "a) Relative currency value\n",
      "b) Local market demand\n",
      "c) McDonald's commercial strategies\n",
      "d) Expatriates' demand\n",
      "Answer: c) McDonald's commercial strategies\n",
      "3. What is the reason for the difference in prices of a Big Mac between Russia and other countries?\n",
      "a) Higher local production costs\n",
      "b) Lower advertising costs\n",
      "c) More expensive local market conditions\n",
      "d) Cheaper food ingredients\n",
      "Answer: c) More expensive local market conditions\n",
      "\n",
      "One-word Answers:\n",
      "\n",
      "1. What is the reflection of local production and delivery cost, advertising costs, and local market conditions on the price of a Big Mac? -> Prices\n",
      "2. Why might the cost of a Big Mac in Russia be cheaper than in other countries despite having more expensive local market conditions? -> Ingredients\n",
      "3. What factors can affect the prices of a Big Mac across different countries? -> Commercial strategies, advertising costs, and local market conditions\n"
     ]
    }
   ],
   "source": [
    "chat_history = [HumanMessage(content=\"Given the above conversation, generate a search query to look up to get information relevant to the conversation\"), AIMessage(content=\"Yes!\")]\n",
    "response= retrieval_chain.invoke({\n",
    "    \"chat_history\": chat_history,\n",
    "    \"input\": '''Generate 12 questions and their answers.These questions should fall into three categories: True or False, Multiple Choice Questions (MCQs), and one-word answers.\n",
    "    Please ensure each category gets 3 questions.\n",
    "    True or Flase questions should follow the format : Question -> True/False\n",
    "    One word answer questions should contain only questions and one answer for example : Question -> Answer.'''\n",
    "})\n",
    "answers = response['answer']\n",
    "print(answers)"
   ]
  },
  {
   "cell_type": "code",
   "execution_count": 39,
   "id": "6059bfd8",
   "metadata": {},
   "outputs": [],
   "source": [
    "with open('answers.txt', 'w') as f:\n",
    "    f.write(answers)"
   ]
  },
  {
   "cell_type": "code",
   "execution_count": null,
   "id": "d19face1",
   "metadata": {},
   "outputs": [],
   "source": []
  }
 ],
 "metadata": {
  "kernelspec": {
   "display_name": "Python 3 (ipykernel)",
   "language": "python",
   "name": "python3"
  },
  "language_info": {
   "codemirror_mode": {
    "name": "ipython",
    "version": 3
   },
   "file_extension": ".py",
   "mimetype": "text/x-python",
   "name": "python",
   "nbconvert_exporter": "python",
   "pygments_lexer": "ipython3",
   "version": "3.9.13"
  }
 },
 "nbformat": 4,
 "nbformat_minor": 5
}
